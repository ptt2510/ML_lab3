{
  "nbformat": 4,
  "nbformat_minor": 0,
  "metadata": {
    "colab": {
      "provenance": []
    },
    "kernelspec": {
      "name": "python3",
      "display_name": "Python 3"
    },
    "language_info": {
      "name": "python"
    }
  },
  "cells": [
    {
      "cell_type": "markdown",
      "source": [
        "**BÀI 1**"
      ],
      "metadata": {
        "id": "dXqzSVAjeR6_"
      }
    },
    {
      "cell_type": "code",
      "source": [
        "link='https://www.kaggle.com/datasets/camnugent/california-housing-prices'"
      ],
      "metadata": {
        "id": "bDLp6Bl_eQJX"
      },
      "execution_count": null,
      "outputs": []
    },
    {
      "cell_type": "code",
      "source": [
        "!pip install wget"
      ],
      "metadata": {
        "colab": {
          "base_uri": "https://localhost:8080/"
        },
        "id": "KjO2b5wrEEj3",
        "outputId": "58b9a42b-1f6d-4754-fb50-5778a70e181a"
      },
      "execution_count": null,
      "outputs": [
        {
          "output_type": "stream",
          "name": "stdout",
          "text": [
            "Requirement already satisfied: wget in /usr/local/lib/python3.10/dist-packages (3.2)\n"
          ]
        }
      ]
    },
    {
      "cell_type": "code",
      "source": [
        "import wget\n",
        "wget.download(link)"
      ],
      "metadata": {
        "colab": {
          "base_uri": "https://localhost:8080/",
          "height": 35
        },
        "id": "Y9AykULrEN2W",
        "outputId": "19dea877-b6c3-4a23-a40d-dc01569eae28"
      },
      "execution_count": null,
      "outputs": [
        {
          "output_type": "execute_result",
          "data": {
            "text/plain": [
              "'california-housing-prices'"
            ],
            "application/vnd.google.colaboratory.intrinsic+json": {
              "type": "string"
            }
          },
          "metadata": {},
          "execution_count": 3
        }
      ]
    },
    {
      "cell_type": "code",
      "source": [
        "import pandas as pd\n",
        "data=pd.read_csv('/content/sample_data/california_housing_train.csv')"
      ],
      "metadata": {
        "id": "ogb94zyKEP0d"
      },
      "execution_count": null,
      "outputs": []
    },
    {
      "cell_type": "code",
      "source": [
        "data=pd.DataFrame(data)"
      ],
      "metadata": {
        "id": "FkG_PnI9FyDk"
      },
      "execution_count": null,
      "outputs": []
    },
    {
      "cell_type": "code",
      "source": [
        "datalb=data[\"median_house_value\"]\n",
        "data = data.drop([\"median_house_value\"], axis='columns')"
      ],
      "metadata": {
        "id": "TvlYzE8vGc5R"
      },
      "execution_count": null,
      "outputs": []
    },
    {
      "cell_type": "code",
      "source": [
        "import numpy as np\n",
        "data=np.array(data)"
      ],
      "metadata": {
        "id": "tMt1Xi1ZF6OD"
      },
      "execution_count": null,
      "outputs": []
    },
    {
      "cell_type": "code",
      "source": [
        "data_b = np.c_[np.ones((17000, 1)), data]"
      ],
      "metadata": {
        "id": "_4XjurxQGKsz"
      },
      "execution_count": null,
      "outputs": []
    },
    {
      "cell_type": "code",
      "source": [
        "theta_best = np.linalg.inv(data_b.T.dot(data_b)).dot(data_b.T).dot(datalb)"
      ],
      "metadata": {
        "id": "ZnAzzMOoGWMq"
      },
      "execution_count": null,
      "outputs": []
    },
    {
      "cell_type": "code",
      "source": [
        "theta_best"
      ],
      "metadata": {
        "colab": {
          "base_uri": "https://localhost:8080/"
        },
        "id": "fcCxwhFmHuCZ",
        "outputId": "f6c07edc-1a74-4558-e3e8-69a8c68e57e4"
      },
      "execution_count": null,
      "outputs": [
        {
          "output_type": "execute_result",
          "data": {
            "text/plain": [
              "array([-3.62060089e+06, -4.31396373e+04, -4.29256731e+04,  1.15069493e+03,\n",
              "       -8.37825121e+00,  1.17648543e+02, -3.84887721e+01,  4.54360026e+01,\n",
              "        4.05070684e+04])"
            ]
          },
          "metadata": {},
          "execution_count": 22
        }
      ]
    },
    {
      "cell_type": "code",
      "source": [
        "data_test=pd.read_csv('/content/sample_data/california_housing_test.csv')"
      ],
      "metadata": {
        "id": "cuVD6V6JH5Fh"
      },
      "execution_count": null,
      "outputs": []
    },
    {
      "cell_type": "code",
      "source": [
        "import numpy as np\n",
        "data_test.replace([np.inf, -np.inf], np.nan, inplace=True)\n",
        "data_test.dropna(inplace=True)"
      ],
      "metadata": {
        "id": "IAsKPzgkIDZa"
      },
      "execution_count": null,
      "outputs": []
    },
    {
      "cell_type": "code",
      "source": [
        "data_test=pd.DataFrame(data_test)"
      ],
      "metadata": {
        "id": "T9ueBl8PIIwo"
      },
      "execution_count": null,
      "outputs": []
    },
    {
      "cell_type": "code",
      "source": [
        "datalb_test=data_test[\"median_house_value\"]\n",
        "data_test = data_test.drop([\"median_house_value\"], axis='columns')"
      ],
      "metadata": {
        "id": "4mnJhubVIM3Y"
      },
      "execution_count": null,
      "outputs": []
    },
    {
      "cell_type": "code",
      "source": [
        "data_test=np.array(data_test)"
      ],
      "metadata": {
        "id": "Gx4GILOnIYlz"
      },
      "execution_count": null,
      "outputs": []
    },
    {
      "cell_type": "code",
      "source": [
        "data_test.shape\n"
      ],
      "metadata": {
        "colab": {
          "base_uri": "https://localhost:8080/"
        },
        "id": "H_KqrPUbIchQ",
        "outputId": "4fabf6c8-965b-47cc-ea4e-1a0cc0507dc3"
      },
      "execution_count": null,
      "outputs": [
        {
          "output_type": "execute_result",
          "data": {
            "text/plain": [
              "(3000, 8)"
            ]
          },
          "metadata": {},
          "execution_count": 28
        }
      ]
    },
    {
      "cell_type": "code",
      "source": [
        "data_test_b=np.c_[np.ones((3000, 1)), data_test]"
      ],
      "metadata": {
        "id": "oOGTBA6QIh0A"
      },
      "execution_count": null,
      "outputs": []
    },
    {
      "cell_type": "code",
      "source": [
        "y_predict=data_test_b.dot(theta_best)"
      ],
      "metadata": {
        "id": "rbuIizq3IvJQ"
      },
      "execution_count": null,
      "outputs": []
    },
    {
      "cell_type": "code",
      "source": [
        "datalb_test[0]"
      ],
      "metadata": {
        "colab": {
          "base_uri": "https://localhost:8080/"
        },
        "id": "BbltUvOlJWXv",
        "outputId": "76f361b7-e91f-4e47-fb03-205d75a77a91"
      },
      "execution_count": null,
      "outputs": [
        {
          "output_type": "execute_result",
          "data": {
            "text/plain": [
              "344700.0"
            ]
          },
          "metadata": {},
          "execution_count": 33
        }
      ]
    },
    {
      "cell_type": "code",
      "source": [
        "y_predict[0]"
      ],
      "metadata": {
        "colab": {
          "base_uri": "https://localhost:8080/"
        },
        "id": "_GVP8AdYNuNT",
        "outputId": "fd42f4fd-4a36-442b-a915-094ba6caeaef"
      },
      "execution_count": null,
      "outputs": [
        {
          "output_type": "execute_result",
          "data": {
            "text/plain": [
              "352812.3111236526"
            ]
          },
          "metadata": {},
          "execution_count": 52
        }
      ]
    },
    {
      "cell_type": "markdown",
      "source": [
        "# **BÀI 2**"
      ],
      "metadata": {
        "id": "W_yvrdXFaPhN"
      }
    },
    {
      "cell_type": "code",
      "source": [
        "import zipfile\n",
        "with zipfile.ZipFile(\"/content/drive/MyDrive/predict+students+dropout+and+academic+success.zip\", 'r') as zip_ref:\n",
        "    zip_ref.extractall(\"/content/sample_data\")"
      ],
      "metadata": {
        "id": "YjeBucw-MUr3"
      },
      "execution_count": null,
      "outputs": []
    },
    {
      "cell_type": "code",
      "source": [
        "import pandas as pd\n",
        "data2=pd.read_csv(\"/content/sample_data/data.csv\")"
      ],
      "metadata": {
        "id": "nRZIUIn_Mu3K"
      },
      "execution_count": null,
      "outputs": []
    },
    {
      "cell_type": "code",
      "source": [
        "data2=pd.DataFrame(data2)"
      ],
      "metadata": {
        "id": "P_zJgakZNb4F"
      },
      "execution_count": null,
      "outputs": []
    },
    {
      "cell_type": "code",
      "source": [
        "data=[]\n",
        "for i in data2.values:\n",
        "  for a in i:\n",
        "    data.append(a.split(';'))\n"
      ],
      "metadata": {
        "id": "EMyw55MkNp-h"
      },
      "execution_count": null,
      "outputs": []
    },
    {
      "cell_type": "code",
      "source": [
        "data=pd.DataFrame(data)"
      ],
      "metadata": {
        "id": "F21eyWuIr4kx"
      },
      "execution_count": null,
      "outputs": []
    },
    {
      "cell_type": "code",
      "source": [
        "for i in range (len(data)):\n",
        "  a=data[36][i]\n",
        "  if a==\"Graduate\":\n",
        "    data[36][i]=0\n",
        "  else:\n",
        "    data[36][i]=1\n"
      ],
      "metadata": {
        "id": "PinHybm3O_5p"
      },
      "execution_count": null,
      "outputs": []
    },
    {
      "cell_type": "code",
      "source": [
        "datalb=[]\n",
        "for i in range (len(data)):\n",
        "  a=data[36][i]\n",
        "  datalb.append(a)"
      ],
      "metadata": {
        "id": "sgBgvof0ZeyP"
      },
      "execution_count": null,
      "outputs": []
    },
    {
      "cell_type": "code",
      "source": [
        "datalb=pd.DataFrame(datalb)"
      ],
      "metadata": {
        "id": "ZmF_ZUwktERY"
      },
      "execution_count": null,
      "outputs": []
    },
    {
      "cell_type": "code",
      "source": [
        "data = data.drop(36, axis=1)"
      ],
      "metadata": {
        "id": "tEes0cuqcKYZ"
      },
      "execution_count": null,
      "outputs": []
    },
    {
      "cell_type": "code",
      "source": [
        "def logistic_function(x):\n",
        "    return 1/ (1 + np.exp(-x))"
      ],
      "metadata": {
        "id": "pz4jLmbeZpgM"
      },
      "execution_count": null,
      "outputs": []
    },
    {
      "cell_type": "code",
      "source": [
        "def compute_cost(theta, x, y):\n",
        "    m = len(y)\n",
        "    y_pred = logistic_function(np.dot(x , theta))\n",
        "    error = (y * np.log(y_pred)) + ((1 - y) * np.log(1 - y_pred))\n",
        "    cost = -1 / m * sum(error)\n",
        "    gradient = 1 / m * np.dot(x.T, (y_pred - y))\n",
        "    return cost , gradient"
      ],
      "metadata": {
        "id": "LFNYX5FijEVI"
      },
      "execution_count": null,
      "outputs": []
    },
    {
      "cell_type": "code",
      "source": [
        "def gradient_descent(x, y, theta, alpha, iterations):\n",
        "    costs = []\n",
        "    for i in range(iterations):\n",
        "        cost, gradient = compute_cost(theta, x, y)\n",
        "        theta -= (alpha * gradient)\n",
        "        costs.append(cost)\n",
        "\n",
        "    return theta, costs"
      ],
      "metadata": {
        "id": "hkGjJZpznD8q"
      },
      "execution_count": null,
      "outputs": []
    },
    {
      "cell_type": "code",
      "source": [
        "data=pd.DataFrame(data,dtype=float)"
      ],
      "metadata": {
        "id": "LdHvPdoOwi14"
      },
      "execution_count": null,
      "outputs": []
    },
    {
      "cell_type": "code",
      "source": [
        "import numpy as np"
      ],
      "metadata": {
        "id": "6fxH79FQWrYU"
      },
      "execution_count": null,
      "outputs": []
    },
    {
      "cell_type": "code",
      "source": [
        "mean_scores = np.mean(data.values, axis=0)\n",
        "std_scores = np.std(data.values, axis=0)\n",
        "scores = (data.values - mean_scores) / std_scores\n",
        "\n",
        "rows = scores.shape[0]\n",
        "cols = scores.shape[1]\n",
        "\n",
        "X = np.append(np.ones((rows, 1)), scores, axis=1)\n",
        "y = datalb.values.reshape(rows, 1)\n",
        "\n",
        "theta_init = np.zeros((cols + 1, 1))\n",
        "cost, gradient = compute_cost(theta_init, X, y)\n",
        "\n",
        "print(\"Cost at initialization\", cost)\n",
        "print(\"Gradient at initialization:\", gradient)\n"
      ],
      "metadata": {
        "id": "Vwo1VYzbp_b2"
      },
      "execution_count": null,
      "outputs": []
    },
    {
      "cell_type": "code",
      "source": [
        "theta, costs = gradient_descent(X, y, theta_init, 0.2, 500)"
      ],
      "metadata": {
        "id": "fH_ZVRsZnmcr"
      },
      "execution_count": null,
      "outputs": []
    },
    {
      "cell_type": "code",
      "source": [
        "from matplotlib import pyplot as plt\n",
        "plt.plot(costs)\n",
        "plt.xlabel(\"Iterations\")\n",
        "plt.ylabel(\"$J(\\Theta)$\")\n",
        "plt.title(\"Values of Cost Function over iterations of Gradient Descent\");"
      ],
      "metadata": {
        "colab": {
          "base_uri": "https://localhost:8080/",
          "height": 472
        },
        "id": "CKue0S9N075_",
        "outputId": "ffb8e5a0-3f30-4892-987f-386a1da19ba5"
      },
      "execution_count": null,
      "outputs": [
        {
          "output_type": "display_data",
          "data": {
            "text/plain": [
              "<Figure size 640x480 with 1 Axes>"
            ],
            "image/png": "[encoded data removed]"
          },
          "metadata": {}
        }
      ]
    },
    {
      "cell_type": "code",
      "source": [
        "def predict(theta, x):\n",
        "    results = np.dot(x,theta)\n",
        "    return results>0"
      ],
      "metadata": {
        "id": "gpdDAiLMxKSO"
      },
      "execution_count": null,
      "outputs": []
    },
    {
      "cell_type": "code",
      "source": [
        "p = predict(theta, X)\n",
        "p=pd.DataFrame(p)\n",
        "p=p.replace([True],1)\n",
        "p=p.replace([False],0)"
      ],
      "metadata": {
        "id": "yIodFIS6xQum"
      },
      "execution_count": null,
      "outputs": []
    },
    {
      "cell_type": "code",
      "source": [
        "p=np.array(p)\n",
        "datalbi=np.array(datalb.values)"
      ],
      "metadata": {
        "id": "XYR0Dg_Ub0cy"
      },
      "execution_count": null,
      "outputs": []
    },
    {
      "cell_type": "code",
      "source": [
        "c= np.sum(p==datalbi)"
      ],
      "metadata": {
        "id": "g6NrfzHKag21"
      },
      "execution_count": null,
      "outputs": []
    },
    {
      "cell_type": "code",
      "source": [
        "print(\"Training Accuracy:\", str((c/data.shape[0])*100),\"%\")"
      ],
      "metadata": {
        "colab": {
          "base_uri": "https://localhost:8080/"
        },
        "id": "H2iPmDz7bkdj",
        "outputId": "2c0e2a58-f2ff-4b3e-a85c-a9e9bc64fbaa"
      },
      "execution_count": null,
      "outputs": [
        {
          "output_type": "stream",
          "name": "stdout",
          "text": [
            "Training Accuracy: 84.5614828209765 %\n"
          ]
        }
      ]
    },
    {
      "cell_type": "markdown",
      "source": [
        "**BÀI 3**"
      ],
      "metadata": {
        "id": "G1dC2FhBe9u3"
      }
    },
    {
      "cell_type": "code",
      "source": [
        "import pandas as pd\n",
        "data3=pd.read_csv(\"/content/sample_data/data.csv\")"
      ],
      "metadata": {
        "id": "nb11nuLUh00C"
      },
      "execution_count": null,
      "outputs": []
    },
    {
      "cell_type": "code",
      "source": [
        "data3=pd.DataFrame(data3)"
      ],
      "metadata": {
        "id": "QFPouUe7iLoA"
      },
      "execution_count": null,
      "outputs": []
    },
    {
      "cell_type": "code",
      "source": [
        "data=[]\n",
        "for i in data3.values:\n",
        "  for a in i:\n",
        "    data.append(a.split(';'))\n"
      ],
      "metadata": {
        "id": "vRgCyRRNiW8w"
      },
      "execution_count": null,
      "outputs": []
    },
    {
      "cell_type": "code",
      "source": [
        "data=pd.DataFrame(data)"
      ],
      "metadata": {
        "id": "57F_H2bTic04"
      },
      "execution_count": null,
      "outputs": []
    },
    {
      "cell_type": "code",
      "source": [
        "for i in range (len(data)):\n",
        "  a=data[36][i]\n",
        "  if a==\"Graduate\":\n",
        "    data[36][i]=0\n",
        "  elif a==\"Dropout\":\n",
        "    data[36][i]=1\n",
        "  else:\n",
        "    data[36][i]=2"
      ],
      "metadata": {
        "id": "S1mqb-B-inBZ"
      },
      "execution_count": null,
      "outputs": []
    },
    {
      "cell_type": "code",
      "source": [
        "datalb=[]\n",
        "for i in range (len(data)):\n",
        "  a=data[36][i]\n",
        "  datalb.append(a)"
      ],
      "metadata": {
        "id": "7EqgxMrainxo"
      },
      "execution_count": null,
      "outputs": []
    },
    {
      "cell_type": "code",
      "source": [
        "datalb=pd.DataFrame(datalb)"
      ],
      "metadata": {
        "id": "-kg-lviJi_tu"
      },
      "execution_count": null,
      "outputs": []
    },
    {
      "cell_type": "code",
      "source": [
        "data = data.drop(36, axis=1)"
      ],
      "metadata": {
        "id": "ytWLsur1jDTu"
      },
      "execution_count": null,
      "outputs": []
    },
    {
      "cell_type": "code",
      "source": [
        "datalb=np.array(datalb)"
      ],
      "metadata": {
        "id": "fXvPx_LYkhLU"
      },
      "execution_count": null,
      "outputs": []
    },
    {
      "cell_type": "code",
      "source": [
        "N = data.shape[0]\n",
        "d = data.shape[1]\n",
        "C = 3"
      ],
      "metadata": {
        "id": "84hFdgWnjVoH"
      },
      "execution_count": null,
      "outputs": []
    },
    {
      "cell_type": "code",
      "source": [
        "y = np.random.randint(0, 3, (N,))"
      ],
      "metadata": {
        "id": "F5aoI8rUqnJS"
      },
      "execution_count": null,
      "outputs": []
    },
    {
      "cell_type": "code",
      "source": [
        "for i in range(0,len(datalb)):\n",
        "  y[i]=datalb[0][i]"
      ],
      "metadata": {
        "id": "CH_10g59rVd4"
      },
      "execution_count": null,
      "outputs": []
    },
    {
      "cell_type": "code",
      "source": [
        "from scipy import sparse\n",
        "def convert_labels(y, C = C):\n",
        "    Y = sparse.coo_matrix((np.ones_like(y), (y, np.arange(len(y)))), shape = (C, len(y))).toarray()\n",
        "    return Y"
      ],
      "metadata": {
        "id": "xhhY_Dy9kUFG"
      },
      "execution_count": null,
      "outputs": []
    },
    {
      "cell_type": "code",
      "source": [
        "Y = convert_labels(y, C)"
      ],
      "metadata": {
        "id": "xz0kX9bRhzhR"
      },
      "execution_count": null,
      "outputs": []
    },
    {
      "cell_type": "code",
      "source": [
        "m=data.shape[0]"
      ],
      "metadata": {
        "id": "mOuypk9Q3I5y"
      },
      "execution_count": null,
      "outputs": []
    },
    {
      "cell_type": "code",
      "source": [
        "def cost(X, Y, W):\n",
        "    A = softmax(W.T.dot(X))\n",
        "    return -np.sum(Y*np.log(A))\n",
        "\n",
        "def grad(X, Y, W):\n",
        "    A = softmax((W.T.dot(X)))\n",
        "    E = A - Y\n",
        "    return np.dot(X.T,E)/m\n"
      ],
      "metadata": {
        "id": "qJkLFCsxssSb"
      },
      "execution_count": null,
      "outputs": []
    },
    {
      "cell_type": "code",
      "source": [
        "def softmax(Z):\n",
        "    \"\"\"\n",
        "    Compute softmax values for each sets of scores in V.\n",
        "    each column of V is a set of score.\n",
        "    \"\"\"\n",
        "    e_Z = np.exp(Z)\n",
        "    A = e_Z / e_Z.sum(axis = 0)\n",
        "    return A"
      ],
      "metadata": {
        "id": "8AuzWqCPtx1g"
      },
      "execution_count": null,
      "outputs": []
    },
    {
      "cell_type": "code",
      "source": [
        "def softmax_stable(Z):\n",
        "    \"\"\"\n",
        "    Compute softmax values for each sets of scores in Z.\n",
        "    each column of Z is a set of score.\n",
        "    \"\"\"\n",
        "    e_Z = np.exp(Z - np.max(Z, axis = 0, keepdims = True))\n",
        "    A = e_Z / e_Z.sum(axis = 0)\n",
        "    return A"
      ],
      "metadata": {
        "id": "8cmqZORlty7_"
      },
      "execution_count": null,
      "outputs": []
    },
    {
      "cell_type": "code",
      "source": [
        "def pred(W, X):\n",
        "    A = softmax_stable(W.T.dot(X))\n",
        "    return np.argmax(A, axis = 0)"
      ],
      "metadata": {
        "id": "P0OkWYjazCLf"
      },
      "execution_count": null,
      "outputs": []
    },
    {
      "cell_type": "markdown",
      "source": [
        "**BÀI 4**"
      ],
      "metadata": {
        "id": "GBwFCFkf5xR9"
      }
    },
    {
      "cell_type": "markdown",
      "source": [
        "**Linear Regression**"
      ],
      "metadata": {
        "id": "M6zSgFZ36qxl"
      }
    },
    {
      "cell_type": "code",
      "source": [
        "from sklearn.model_selection import train_test_split\n",
        "from sklearn.linear_model import LinearRegression\n",
        "from sklearn.metrics import mean_squared_error, r2_score"
      ],
      "metadata": {
        "id": "CLAZSTfu6vOj"
      },
      "execution_count": null,
      "outputs": []
    },
    {
      "cell_type": "code",
      "source": [
        "data=pd.read_csv('/content/sample_data/california_housing_train.csv')"
      ],
      "metadata": {
        "id": "k1-haaos67HF"
      },
      "execution_count": null,
      "outputs": []
    },
    {
      "cell_type": "code",
      "source": [
        "data=pd.DataFrame(data)"
      ],
      "metadata": {
        "id": "_kK4_FYd6_jj"
      },
      "execution_count": null,
      "outputs": []
    },
    {
      "cell_type": "code",
      "source": [
        "datalb=data[\"median_house_value\"]\n",
        "data = data.drop([\"median_house_value\"], axis='columns')"
      ],
      "metadata": {
        "id": "CGPTHNJU7FbC"
      },
      "execution_count": null,
      "outputs": []
    },
    {
      "cell_type": "code",
      "source": [
        "X = np.array(data)\n",
        "y = np.array(datalb)"
      ],
      "metadata": {
        "id": "NVWxAPyt7I_8"
      },
      "execution_count": null,
      "outputs": []
    },
    {
      "cell_type": "code",
      "source": [
        "X.shape"
      ],
      "metadata": {
        "colab": {
          "base_uri": "https://localhost:8080/"
        },
        "id": "uENfMLc88J8S",
        "outputId": "948f481f-1b34-455c-98d6-8d57281f4d5a"
      },
      "execution_count": null,
      "outputs": [
        {
          "output_type": "execute_result",
          "data": {
            "text/plain": [
              "(17000, 8)"
            ]
          },
          "metadata": {},
          "execution_count": 300
        }
      ]
    },
    {
      "cell_type": "code",
      "source": [
        "y.shape"
      ],
      "metadata": {
        "colab": {
          "base_uri": "https://localhost:8080/"
        },
        "id": "4amg_ZQt8NeB",
        "outputId": "53c9aa02-4337-4675-e199-bd36fd1f3b95"
      },
      "execution_count": null,
      "outputs": [
        {
          "output_type": "execute_result",
          "data": {
            "text/plain": [
              "(17000,)"
            ]
          },
          "metadata": {},
          "execution_count": 301
        }
      ]
    },
    {
      "cell_type": "code",
      "source": [
        "test=pd.read_csv('/content/sample_data/california_housing_test.csv')"
      ],
      "metadata": {
        "id": "JqMs29QD7gaL"
      },
      "execution_count": null,
      "outputs": []
    },
    {
      "cell_type": "code",
      "source": [
        "test=pd.DataFrame(test)"
      ],
      "metadata": {
        "id": "_ru4f1Oz7qbc"
      },
      "execution_count": null,
      "outputs": []
    },
    {
      "cell_type": "code",
      "source": [
        "testlb=test[\"median_house_value\"]\n",
        "test = test.drop([\"median_house_value\"], axis='columns')"
      ],
      "metadata": {
        "id": "ZI__HzSt7suq"
      },
      "execution_count": null,
      "outputs": []
    },
    {
      "cell_type": "code",
      "source": [
        "X_test = np.array(test)\n",
        "y_test = np.array(testlb)"
      ],
      "metadata": {
        "id": "OM664VmT7yvK"
      },
      "execution_count": null,
      "outputs": []
    },
    {
      "cell_type": "code",
      "source": [
        "regr = LinearRegression()\n",
        "regr.fit(X, y)\n",
        "y_pred = regr.predict(X_test)\n",
        "mse = mean_squared_error(y_test, y_pred)\n",
        "r2 = r2_score(y_test, y_pred)\n",
        "\n",
        "print(\"Mean Squared Error:\", mse)\n",
        "print(\"R-squared:\", r2)"
      ],
      "metadata": {
        "id": "Vg5m67AS7ZqU"
      },
      "execution_count": null,
      "outputs": []
    },
    {
      "cell_type": "markdown",
      "source": [
        "***Logistic Regression***"
      ],
      "metadata": {
        "id": "UfCKu6zbADOR"
      }
    },
    {
      "cell_type": "code",
      "source": [
        "data3=pd.read_csv(\"/content/sample_data/data.csv\")"
      ],
      "metadata": {
        "id": "0Mkh7gOyEsuj"
      },
      "execution_count": null,
      "outputs": []
    },
    {
      "cell_type": "code",
      "source": [
        "data3=pd.DataFrame(data3)\n",
        "data=[]\n",
        "for i in data3.values:\n",
        "  for a in i:\n",
        "    data.append(a.split(';'))\n",
        "data=pd.DataFrame(data)\n",
        "for i in range (len(data)):\n",
        "  a=data[36][i]\n",
        "  if a==\"Graduate\":\n",
        "    data[36][i]=0\n",
        "  else:\n",
        "    data[36][i]=1\n",
        "datalb=[]\n",
        "for i in range (len(data)):\n",
        "  a=data[36][i]\n",
        "  datalb.append(a)\n",
        "data = data.drop(36, axis=1)\n",
        "datalb=np.array(datalb)\n",
        "data=np.array(data.values)"
      ],
      "metadata": {
        "id": "u-pyjp_eEx7j"
      },
      "execution_count": 320,
      "outputs": []
    },
    {
      "cell_type": "code",
      "source": [
        "X_train, X_test, y_train, y_test = train_test_split(data, datalb, test_size=0.2)"
      ],
      "metadata": {
        "id": "KnS7YYfDFKCb"
      },
      "execution_count": 321,
      "outputs": []
    },
    {
      "cell_type": "code",
      "source": [
        " from sklearn.linear_model import LogisticRegression\n",
        " log_reg = LogisticRegression()\n",
        " log_reg.fit(X_train, y_train)"
      ],
      "metadata": {
        "colab": {
          "base_uri": "https://localhost:8080/",
          "height": 233
        },
        "id": "MpSLIcJOAQVW",
        "outputId": "c09a4749-1376-497c-935b-663886ead17d"
      },
      "execution_count": 323,
      "outputs": [
        {
          "output_type": "stream",
          "name": "stderr",
          "text": [
            "/usr/local/lib/python3.10/dist-packages/sklearn/linear_model/_logistic.py:458: ConvergenceWarning: lbfgs failed to converge (status=1):\n",
            "STOP: TOTAL NO. of ITERATIONS REACHED LIMIT.\n",
            "\n",
            "Increase the number of iterations (max_iter) or scale the data as shown in:\n",
            "    https://scikit-learn.org/stable/modules/preprocessing.html\n",
            "Please also refer to the documentation for alternative solver options:\n",
            "    https://scikit-learn.org/stable/modules/linear_model.html#logistic-regression\n",
            "  n_iter_i = _check_optimize_result(\n"
          ]
        },
        {
          "output_type": "execute_result",
          "data": {
            "text/plain": [
              "LogisticRegression()"
            ],
            "text/html": [
              "<style>#sk-container-id-1 {color: black;background-color: white;}#sk-container-id-1 pre{padding: 0;}#sk-container-id-1 div.sk-toggleable {background-color: white;}#sk-container-id-1 label.sk-toggleable__label {cursor: pointer;display: block;width: 100%;margin-bottom: 0;padding: 0.3em;box-sizing: border-box;text-align: center;}#sk-container-id-1 label.sk-toggleable__label-arrow:before {content: \"▸\";float: left;margin-right: 0.25em;color: #696969;}#sk-container-id-1 label.sk-toggleable__label-arrow:hover:before {color: black;}#sk-container-id-1 div.sk-estimator:hover label.sk-toggleable__label-arrow:before {color: black;}#sk-container-id-1 div.sk-toggleable__content {max-height: 0;max-width: 0;overflow: hidden;text-align: left;background-color: #f0f8ff;}#sk-container-id-1 div.sk-toggleable__content pre {margin: 0.2em;color: black;border-radius: 0.25em;background-color: #f0f8ff;}#sk-container-id-1 input.sk-toggleable__control:checked~div.sk-toggleable__content {max-height: 200px;max-width: 100%;overflow: auto;}#sk-container-id-1 input.sk-toggleable__control:checked~label.sk-toggleable__label-arrow:before {content: \"▾\";}#sk-container-id-1 div.sk-estimator input.sk-toggleable__control:checked~label.sk-toggleable__label {background-color: #d4ebff;}#sk-container-id-1 div.sk-label input.sk-toggleable__control:checked~label.sk-toggleable__label {background-color: #d4ebff;}#sk-container-id-1 input.sk-hidden--visually {border: 0;clip: rect(1px 1px 1px 1px);clip: rect(1px, 1px, 1px, 1px);height: 1px;margin: -1px;overflow: hidden;padding: 0;position: absolute;width: 1px;}#sk-container-id-1 div.sk-estimator {font-family: monospace;background-color: #f0f8ff;border: 1px dotted black;border-radius: 0.25em;box-sizing: border-box;margin-bottom: 0.5em;}#sk-container-id-1 div.sk-estimator:hover {background-color: #d4ebff;}#sk-container-id-1 div.sk-parallel-item::after {content: \"\";width: 100%;border-bottom: 1px solid gray;flex-grow: 1;}#sk-container-id-1 div.sk-label:hover label.sk-toggleable__label {background-color: #d4ebff;}#sk-container-id-1 div.sk-serial::before {content: \"\";position: absolute;border-left: 1px solid gray;box-sizing: border-box;top: 0;bottom: 0;left: 50%;z-index: 0;}#sk-container-id-1 div.sk-serial {display: flex;flex-direction: column;align-items: center;background-color: white;padding-right: 0.2em;padding-left: 0.2em;position: relative;}#sk-container-id-1 div.sk-item {position: relative;z-index: 1;}#sk-container-id-1 div.sk-parallel {display: flex;align-items: stretch;justify-content: center;background-color: white;position: relative;}#sk-container-id-1 div.sk-item::before, #sk-container-id-1 div.sk-parallel-item::before {content: \"\";position: absolute;border-left: 1px solid gray;box-sizing: border-box;top: 0;bottom: 0;left: 50%;z-index: -1;}#sk-container-id-1 div.sk-parallel-item {display: flex;flex-direction: column;z-index: 1;position: relative;background-color: white;}#sk-container-id-1 div.sk-parallel-item:first-child::after {align-self: flex-end;width: 50%;}#sk-container-id-1 div.sk-parallel-item:last-child::after {align-self: flex-start;width: 50%;}#sk-container-id-1 div.sk-parallel-item:only-child::after {width: 0;}#sk-container-id-1 div.sk-dashed-wrapped {border: 1px dashed gray;margin: 0 0.4em 0.5em 0.4em;box-sizing: border-box;padding-bottom: 0.4em;background-color: white;}#sk-container-id-1 div.sk-label label {font-family: monospace;font-weight: bold;display: inline-block;line-height: 1.2em;}#sk-container-id-1 div.sk-label-container {text-align: center;}#sk-container-id-1 div.sk-container {/* jupyter's `normalize.less` sets `[hidden] { display: none; }` but bootstrap.min.css set `[hidden] { display: none !important; }` so we also need the `!important` here to be able to override the default hidden behavior on the sphinx rendered scikit-learn.org. See: https://github.com/scikit-learn/scikit-learn/issues/21755 */display: inline-block !important;position: relative;}#sk-container-id-1 div.sk-text-repr-fallback {display: none;}</style><div id=\"sk-container-id-1\" class=\"sk-top-container\"><div class=\"sk-text-repr-fallback\"><pre>LogisticRegression()</pre><b>In a Jupyter environment, please rerun this cell to show the HTML representation or trust the notebook. <br />On GitHub, the HTML representation is unable to render, please try loading this page with nbviewer.org.</b></div><div class=\"sk-container\" hidden><div class=\"sk-item\"><div class=\"sk-estimator sk-toggleable\"><input class=\"sk-toggleable__control sk-hidden--visually\" id=\"sk-estimator-id-1\" type=\"checkbox\" checked><label for=\"sk-estimator-id-1\" class=\"sk-toggleable__label sk-toggleable__label-arrow\">LogisticRegression</label><div class=\"sk-toggleable__content\"><pre>LogisticRegression()</pre></div></div></div></div></div>"
            ]
          },
          "metadata": {},
          "execution_count": 323
        }
      ]
    },
    {
      "cell_type": "code",
      "source": [
        "y_pre = log_reg.predict(X_test)"
      ],
      "metadata": {
        "id": "40_BNt9AGVOw"
      },
      "execution_count": 327,
      "outputs": []
    },
    {
      "cell_type": "code",
      "source": [
        "from sklearn.metrics import accuracy_score\n",
        "print('Training size = %d, accuracy = %.2f%%' % \\\n",
        "      (X_train.shape[0],accuracy_score(y_test, y_pre)*100))"
      ],
      "metadata": {
        "colab": {
          "base_uri": "https://localhost:8080/"
        },
        "id": "74_403TuGgmP",
        "outputId": "12736e5d-412a-4bd0-834a-50aead002810"
      },
      "execution_count": 328,
      "outputs": [
        {
          "output_type": "stream",
          "name": "stdout",
          "text": [
            "Training size = 3539, accuracy = 79.89%\n"
          ]
        }
      ]
    },
    {
      "cell_type": "markdown",
      "source": [
        "**Softmax Regression**"
      ],
      "metadata": {
        "id": "9Ve-e_iEHpoU"
      }
    },
    {
      "cell_type": "code",
      "source": [
        "data3=pd.DataFrame(data3)\n",
        "data=[]\n",
        "for i in data3.values:\n",
        "  for a in i:\n",
        "    data.append(a.split(';'))\n",
        "data=pd.DataFrame(data)\n",
        "for i in range (len(data)):\n",
        "  a=data[36][i]\n",
        "  if a==\"Graduate\":\n",
        "    data[36][i]=0\n",
        "  elif a==\"Dropout\":\n",
        "    data[36][i]=1\n",
        "  else:\n",
        "    data[36][i]=2\n",
        "datalb=[]\n",
        "for i in range (len(data)):\n",
        "  a=data[36][i]\n",
        "  datalb.append(a)\n",
        "data = data.drop(36, axis=1)\n",
        "datalb=np.array(datalb)\n",
        "data=np.array(data.values)"
      ],
      "metadata": {
        "id": "ghMaG2FgHvxs"
      },
      "execution_count": 329,
      "outputs": []
    },
    {
      "cell_type": "code",
      "source": [
        "X_train, X_test, y_train, y_test = train_test_split(data, datalb, test_size=0.2)"
      ],
      "metadata": {
        "id": "ekO1scIKIEf2"
      },
      "execution_count": 330,
      "outputs": []
    },
    {
      "cell_type": "code",
      "source": [
        " softmax_reg = LogisticRegression(multi_class=\"multinomial\",solver=\"lbfgs\", C=3)\n",
        " softmax_reg.fit(X_train, y_train)"
      ],
      "metadata": {
        "colab": {
          "base_uri": "https://localhost:8080/",
          "height": 233
        },
        "id": "GyD1ffGJIHRN",
        "outputId": "873d0f21-ffae-4644-d9c9-3048ca4d8b20"
      },
      "execution_count": 331,
      "outputs": [
        {
          "output_type": "stream",
          "name": "stderr",
          "text": [
            "/usr/local/lib/python3.10/dist-packages/sklearn/linear_model/_logistic.py:458: ConvergenceWarning: lbfgs failed to converge (status=1):\n",
            "STOP: TOTAL NO. of ITERATIONS REACHED LIMIT.\n",
            "\n",
            "Increase the number of iterations (max_iter) or scale the data as shown in:\n",
            "    https://scikit-learn.org/stable/modules/preprocessing.html\n",
            "Please also refer to the documentation for alternative solver options:\n",
            "    https://scikit-learn.org/stable/modules/linear_model.html#logistic-regression\n",
            "  n_iter_i = _check_optimize_result(\n"
          ]
        },
        {
          "output_type": "execute_result",
          "data": {
            "text/plain": [
              "LogisticRegression(C=3, multi_class='multinomial')"
            ],
            "text/html": [
              "<style>#sk-container-id-2 {color: black;background-color: white;}#sk-container-id-2 pre{padding: 0;}#sk-container-id-2 div.sk-toggleable {background-color: white;}#sk-container-id-2 label.sk-toggleable__label {cursor: pointer;display: block;width: 100%;margin-bottom: 0;padding: 0.3em;box-sizing: border-box;text-align: center;}#sk-container-id-2 label.sk-toggleable__label-arrow:before {content: \"▸\";float: left;margin-right: 0.25em;color: #696969;}#sk-container-id-2 label.sk-toggleable__label-arrow:hover:before {color: black;}#sk-container-id-2 div.sk-estimator:hover label.sk-toggleable__label-arrow:before {color: black;}#sk-container-id-2 div.sk-toggleable__content {max-height: 0;max-width: 0;overflow: hidden;text-align: left;background-color: #f0f8ff;}#sk-container-id-2 div.sk-toggleable__content pre {margin: 0.2em;color: black;border-radius: 0.25em;background-color: #f0f8ff;}#sk-container-id-2 input.sk-toggleable__control:checked~div.sk-toggleable__content {max-height: 200px;max-width: 100%;overflow: auto;}#sk-container-id-2 input.sk-toggleable__control:checked~label.sk-toggleable__label-arrow:before {content: \"▾\";}#sk-container-id-2 div.sk-estimator input.sk-toggleable__control:checked~label.sk-toggleable__label {background-color: #d4ebff;}#sk-container-id-2 div.sk-label input.sk-toggleable__control:checked~label.sk-toggleable__label {background-color: #d4ebff;}#sk-container-id-2 input.sk-hidden--visually {border: 0;clip: rect(1px 1px 1px 1px);clip: rect(1px, 1px, 1px, 1px);height: 1px;margin: -1px;overflow: hidden;padding: 0;position: absolute;width: 1px;}#sk-container-id-2 div.sk-estimator {font-family: monospace;background-color: #f0f8ff;border: 1px dotted black;border-radius: 0.25em;box-sizing: border-box;margin-bottom: 0.5em;}#sk-container-id-2 div.sk-estimator:hover {background-color: #d4ebff;}#sk-container-id-2 div.sk-parallel-item::after {content: \"\";width: 100%;border-bottom: 1px solid gray;flex-grow: 1;}#sk-container-id-2 div.sk-label:hover label.sk-toggleable__label {background-color: #d4ebff;}#sk-container-id-2 div.sk-serial::before {content: \"\";position: absolute;border-left: 1px solid gray;box-sizing: border-box;top: 0;bottom: 0;left: 50%;z-index: 0;}#sk-container-id-2 div.sk-serial {display: flex;flex-direction: column;align-items: center;background-color: white;padding-right: 0.2em;padding-left: 0.2em;position: relative;}#sk-container-id-2 div.sk-item {position: relative;z-index: 1;}#sk-container-id-2 div.sk-parallel {display: flex;align-items: stretch;justify-content: center;background-color: white;position: relative;}#sk-container-id-2 div.sk-item::before, #sk-container-id-2 div.sk-parallel-item::before {content: \"\";position: absolute;border-left: 1px solid gray;box-sizing: border-box;top: 0;bottom: 0;left: 50%;z-index: -1;}#sk-container-id-2 div.sk-parallel-item {display: flex;flex-direction: column;z-index: 1;position: relative;background-color: white;}#sk-container-id-2 div.sk-parallel-item:first-child::after {align-self: flex-end;width: 50%;}#sk-container-id-2 div.sk-parallel-item:last-child::after {align-self: flex-start;width: 50%;}#sk-container-id-2 div.sk-parallel-item:only-child::after {width: 0;}#sk-container-id-2 div.sk-dashed-wrapped {border: 1px dashed gray;margin: 0 0.4em 0.5em 0.4em;box-sizing: border-box;padding-bottom: 0.4em;background-color: white;}#sk-container-id-2 div.sk-label label {font-family: monospace;font-weight: bold;display: inline-block;line-height: 1.2em;}#sk-container-id-2 div.sk-label-container {text-align: center;}#sk-container-id-2 div.sk-container {/* jupyter's `normalize.less` sets `[hidden] { display: none; }` but bootstrap.min.css set `[hidden] { display: none !important; }` so we also need the `!important` here to be able to override the default hidden behavior on the sphinx rendered scikit-learn.org. See: https://github.com/scikit-learn/scikit-learn/issues/21755 */display: inline-block !important;position: relative;}#sk-container-id-2 div.sk-text-repr-fallback {display: none;}</style><div id=\"sk-container-id-2\" class=\"sk-top-container\"><div class=\"sk-text-repr-fallback\"><pre>LogisticRegression(C=3, multi_class=&#x27;multinomial&#x27;)</pre><b>In a Jupyter environment, please rerun this cell to show the HTML representation or trust the notebook. <br />On GitHub, the HTML representation is unable to render, please try loading this page with nbviewer.org.</b></div><div class=\"sk-container\" hidden><div class=\"sk-item\"><div class=\"sk-estimator sk-toggleable\"><input class=\"sk-toggleable__control sk-hidden--visually\" id=\"sk-estimator-id-2\" type=\"checkbox\" checked><label for=\"sk-estimator-id-2\" class=\"sk-toggleable__label sk-toggleable__label-arrow\">LogisticRegression</label><div class=\"sk-toggleable__content\"><pre>LogisticRegression(C=3, multi_class=&#x27;multinomial&#x27;)</pre></div></div></div></div></div>"
            ]
          },
          "metadata": {},
          "execution_count": 331
        }
      ]
    },
    {
      "cell_type": "code",
      "source": [
        "y_pre = softmax_reg.predict(X_test)"
      ],
      "metadata": {
        "id": "d9p3atiLIYrC"
      },
      "execution_count": 332,
      "outputs": []
    },
    {
      "cell_type": "code",
      "source": [
        "from sklearn.metrics import accuracy_score\n",
        "print('Training size = %d, accuracy = %.2f%%' % \\\n",
        "      (X_train.shape[0],accuracy_score(y_test, y_pre)*100))"
      ],
      "metadata": {
        "colab": {
          "base_uri": "https://localhost:8080/"
        },
        "id": "OsrqmlcWIezi",
        "outputId": "f5832ff7-ac22-48c9-df5b-880fcfcc4aa5"
      },
      "execution_count": 333,
      "outputs": [
        {
          "output_type": "stream",
          "name": "stdout",
          "text": [
            "Training size = 3539, accuracy = 68.59%\n"
          ]
        }
      ]
    }
  ]
}